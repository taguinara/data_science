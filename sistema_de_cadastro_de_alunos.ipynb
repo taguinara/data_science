{
  "nbformat": 4,
  "nbformat_minor": 0,
  "metadata": {
    "colab": {
      "provenance": [],
      "authorship_tag": "ABX9TyPFTdbR8f9G53FwITKz1vkw",
      "include_colab_link": true
    },
    "kernelspec": {
      "name": "python3",
      "display_name": "Python 3"
    },
    "language_info": {
      "name": "python"
    }
  },
  "cells": [
    {
      "cell_type": "markdown",
      "metadata": {
        "id": "view-in-github",
        "colab_type": "text"
      },
      "source": [
        "<a href=\"https://colab.research.google.com/github/taguinara/data_science/blob/main/sistema_de_cadastro_de_alunos.ipynb\" target=\"_parent\"><img src=\"https://colab.research.google.com/assets/colab-badge.svg\" alt=\"Open In Colab\"/></a>"
      ]
    },
    {
      "cell_type": "code",
      "execution_count": null,
      "metadata": {
        "id": "_mxuizCI3Bkn"
      },
      "outputs": [],
      "source": [
        "nomes = []\n",
        "idades = []"
      ]
    },
    {
      "cell_type": "code",
      "source": [
        "for i in range(3):\n",
        "    nome = input(f\"Digite o nome do aluno {i+1}: \")\n",
        "    idade = int(input(f\"Digite a idade do aluno {i+1}: \"))\n",
        "    nomes.append(nome)\n",
        "    idades.append(idade)"
      ],
      "metadata": {
        "colab": {
          "base_uri": "https://localhost:8080/"
        },
        "id": "_EZh_8Fm3evr",
        "outputId": "6778100d-f515-4794-c2d2-3430d591d86f"
      },
      "execution_count": null,
      "outputs": [
        {
          "name": "stdout",
          "output_type": "stream",
          "text": [
            "Digite o nome do aluno 1: tainara\n",
            "Digite a idade do aluno 1: 31\n",
            "Digite o nome do aluno 2: shanara\n",
            "Digite a idade do aluno 2: 23\n",
            "Digite o nome do aluno 3: dayane \n",
            "Digite a idade do aluno 3: 28\n"
          ]
        }
      ]
    },
    {
      "cell_type": "code",
      "source": [
        "print(\"\\n--- Lista de todos os alunos ---\")\n",
        "for i in range(3):\n",
        "    print(f\"Nome: {nomes[i]}, Idade: {idades[i]}\")"
      ],
      "metadata": {
        "colab": {
          "base_uri": "https://localhost:8080/"
        },
        "id": "mKoyr7D33Yi8",
        "outputId": "54431d14-9042-4043-da77-53b51ab53805"
      },
      "execution_count": null,
      "outputs": [
        {
          "output_type": "stream",
          "name": "stdout",
          "text": [
            "\n",
            "--- Lista de todos os alunos ---\n",
            "Nome: tainara, Idade: 31\n",
            "Nome: shanara, Idade: 23\n",
            "Nome: dayane , Idade: 28\n"
          ]
        }
      ]
    },
    {
      "cell_type": "code",
      "source": [
        "print(\"\\n--- Alunos maiores de 18 e nome começando com 'A' ---\")\n",
        "for i in range(3):\n",
        "    if idades[i] > 18 and nomes[i].startswith('A'):\n",
        "        print(f\"Nome: {nomes[i]}, Idade: {idades[i]}\")"
      ],
      "metadata": {
        "colab": {
          "base_uri": "https://localhost:8080/"
        },
        "id": "YzrqAjB63V5M",
        "outputId": "430f5ff5-4d75-428c-bad5-9df1bfcce803"
      },
      "execution_count": null,
      "outputs": [
        {
          "output_type": "stream",
          "name": "stdout",
          "text": [
            "\n",
            "--- Alunos maiores de 18 e nome começando com 'A' ---\n"
          ]
        }
      ]
    },
    {
      "cell_type": "code",
      "source": [
        "print(\"\\n--- Alunos menores de 12 ou nome começando com 'M' ---\")\n",
        "for i in range(3):\n",
        "    if idades[i] < 12 or nomes[i].startswith('M'):\n",
        "        print(f\"Nome: {nomes[i]}, Idade: {idades[i]}\")"
      ],
      "metadata": {
        "colab": {
          "base_uri": "https://localhost:8080/"
        },
        "id": "_HhkbXww3OJU",
        "outputId": "f487209c-2310-4952-a1da-bb3f5c25c528"
      },
      "execution_count": null,
      "outputs": [
        {
          "output_type": "stream",
          "name": "stdout",
          "text": [
            "\n",
            "--- Alunos menores de 12 ou nome começando com 'M' ---\n"
          ]
        }
      ]
    },
    {
      "cell_type": "code",
      "source": [
        "for nome, idade in zip(nomes, idades):\n",
        "    primeira_letra = nome[0].upper()\n",
        "\n",
        "    if (idade >= 18) and (primeira_letra == \"A\"):\n",
        "        print(f\"Nome: {nome:<20} | Idade: {idade}\")"
      ],
      "metadata": {
        "id": "F8C1uINm0658"
      },
      "execution_count": null,
      "outputs": []
    }
  ]
}