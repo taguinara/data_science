{
  "nbformat": 4,
  "nbformat_minor": 0,
  "metadata": {
    "colab": {
      "provenance": [],
      "authorship_tag": "ABX9TyNHOuruSwQR/XXcJUu0+ngH",
      "include_colab_link": true
    },
    "kernelspec": {
      "name": "python3",
      "display_name": "Python 3"
    },
    "language_info": {
      "name": "python"
    }
  },
  "cells": [
    {
      "cell_type": "markdown",
      "metadata": {
        "id": "view-in-github",
        "colab_type": "text"
      },
      "source": [
        "<a href=\"https://colab.research.google.com/github/taguinara/data_science/blob/main/sistema_simples_de_cadastro_de_alunos.ipynb\" target=\"_parent\"><img src=\"https://colab.research.google.com/assets/colab-badge.svg\" alt=\"Open In Colab\"/></a>"
      ]
    },
    {
      "cell_type": "markdown",
      "source": [
        "## **Sistema simples de cadastro de alunos**"
      ],
      "metadata": {
        "id": "eepk0H9vxBH1"
      }
    },
    {
      "cell_type": "code",
      "source": [
        "TAMANHO = 5"
      ],
      "metadata": {
        "id": "e4xzBS0vydko"
      },
      "execution_count": null,
      "outputs": []
    },
    {
      "cell_type": "code",
      "source": [
        "nomes = []\n",
        "idades = []"
      ],
      "metadata": {
        "id": "IIR4-WRvzRLk"
      },
      "execution_count": null,
      "outputs": []
    },
    {
      "cell_type": "code",
      "source": [
        "print(\"=\" * 40)\n",
        "print(\"  Sistema Simples de Cadastro de Alunos  \")\n",
        "print(\"=\" * 40)"
      ],
      "metadata": {
        "colab": {
          "base_uri": "https://localhost:8080/"
        },
        "id": "nQaqMKlYzWrt",
        "outputId": "8c502921-a403-493a-e1ff-d96914b85545"
      },
      "execution_count": null,
      "outputs": [
        {
          "output_type": "stream",
          "name": "stdout",
          "text": [
            "========================================\n",
            "  Sistema Simples de Cadastro de Alunos  \n",
            "========================================\n"
          ]
        }
      ]
    },
    {
      "cell_type": "code",
      "source": [
        "for i in range(TAMANHO):\n",
        "    print(f\"\\n--- Aluno {i + 1} ---\")"
      ],
      "metadata": {
        "colab": {
          "base_uri": "https://localhost:8080/"
        },
        "id": "t8WkmkAIzc1c",
        "outputId": "042b6c5f-9638-41e3-944f-d174c32e5b18"
      },
      "execution_count": null,
      "outputs": [
        {
          "output_type": "stream",
          "name": "stdout",
          "text": [
            "\n",
            "--- Aluno 1 ---\n",
            "\n",
            "--- Aluno 2 ---\n",
            "\n",
            "--- Aluno 3 ---\n",
            "\n",
            "--- Aluno 4 ---\n",
            "\n",
            "--- Aluno 5 ---\n"
          ]
        }
      ]
    },
    {
      "cell_type": "code",
      "source": [
        "    nome_aluno = input(\"Digite o nome do aluno: \")\n",
        "    nomes.append(nome_aluno)"
      ],
      "metadata": {
        "colab": {
          "base_uri": "https://localhost:8080/"
        },
        "id": "qT2zvCy52S70",
        "outputId": "9192ea78-53a3-4b6c-d121-895ad69acde9"
      },
      "execution_count": null,
      "outputs": [
        {
          "name": "stdout",
          "output_type": "stream",
          "text": [
            "Digite o nome do aluno: ana\n"
          ]
        }
      ]
    },
    {
      "cell_type": "code",
      "source": [
        "while True:\n",
        "        try:\n",
        "            idade_aluno = int(input(\"Digite a idade do aluno: \"))\n",
        "            idades.append(idade_aluno)\n",
        "            break\n",
        "        except ValueError:\n",
        "            print(\"Entrada inválida. Por favor, digite um número inteiro para a idade.\")\n",
        "\n",
        "print(\"\\n\" + \"-\" * 20)"
      ],
      "metadata": {
        "colab": {
          "base_uri": "https://localhost:8080/"
        },
        "id": "MHSKY6Qszgz1",
        "outputId": "479ec52c-03cb-4fc5-8e97-3372a4772227"
      },
      "execution_count": null,
      "outputs": [
        {
          "output_type": "stream",
          "name": "stdout",
          "text": [
            "Digite a idade do aluno: 20\n",
            "\n",
            "--------------------\n"
          ]
        }
      ]
    },
    {
      "cell_type": "code",
      "source": [
        "print(\"\\n\" + \"=\" * 40)\n",
        "print(\"  Lista de Todos os Alunos Cadastrados   \")\n",
        "print(\"=\" * 40)"
      ],
      "metadata": {
        "colab": {
          "base_uri": "https://localhost:8080/"
        },
        "id": "0o8rFmTJzuQ8",
        "outputId": "88b4645a-c68b-43b2-b561-d8ad95d7979c"
      },
      "execution_count": null,
      "outputs": [
        {
          "output_type": "stream",
          "name": "stdout",
          "text": [
            "\n",
            "========================================\n",
            "  Lista de Todos os Alunos Cadastrados   \n",
            "========================================\n"
          ]
        }
      ]
    },
    {
      "cell_type": "code",
      "source": [
        "for nome, idade in zip(nomes, idades):\n",
        "    print(f\"Nome: {nome:<20} | Idade: {idade}\")"
      ],
      "metadata": {
        "colab": {
          "base_uri": "https://localhost:8080/"
        },
        "id": "b3TbVm3D0glk",
        "outputId": "a7f5eae9-7c5d-4285-874c-5cdc3a5e5167"
      },
      "execution_count": null,
      "outputs": [
        {
          "output_type": "stream",
          "name": "stdout",
          "text": [
            "Nome: Ana                  | Idade: 20\n"
          ]
        }
      ]
    },
    {
      "cell_type": "code",
      "source": [
        "print(\"\\n\" + \"=\" * 60)\n",
        "print(\" Alunos >= 18 ANOS E nome começa com 'A' (Operador AND) \")\n",
        "print(\"=\" * 60)"
      ],
      "metadata": {
        "colab": {
          "base_uri": "https://localhost:8080/"
        },
        "id": "JJNNK_xu04JE",
        "outputId": "0f8e66b0-dfb3-46b5-ec16-960432628d02"
      },
      "execution_count": null,
      "outputs": [
        {
          "output_type": "stream",
          "name": "stdout",
          "text": [
            "\n",
            "============================================================\n",
            " Alunos >= 18 ANOS E nome começa com 'A' (Operador AND) \n",
            "============================================================\n"
          ]
        }
      ]
    },
    {
      "cell_type": "code",
      "source": [
        "for nome, idade in zip(nomes, idades):\n",
        "    primeira_letra = nome[0].upper()\n",
        "\n",
        "    if (idade >= 18) and (primeira_letra == \"A\"):\n",
        "        print(f\"Nome: {nome:<20} | Idade: {idade}\")"
      ],
      "metadata": {
        "colab": {
          "base_uri": "https://localhost:8080/"
        },
        "id": "5CMokzvJ06Fb",
        "outputId": "0c941a70-2e1b-4cdb-f1fc-06c1e6e4701d"
      },
      "execution_count": null,
      "outputs": [
        {
          "output_type": "stream",
          "name": "stdout",
          "text": [
            "Nome: Ana                  | Idade: 20\n"
          ]
        }
      ]
    },
    {
      "cell_type": "code",
      "source": [
        "for nome, idade in zip(nomes, idades):\n",
        "      primeira_letra = nome[0].upper()"
      ],
      "metadata": {
        "id": "_XAxf7ro1R2m"
      },
      "execution_count": null,
      "outputs": []
    },
    {
      "cell_type": "code",
      "source": [
        "    if (idade < 12) or (primeira_letra == \"M\"):\n",
        "        print(f\"Nome: {nome:<20} | Idade: {idade}\")"
      ],
      "metadata": {
        "id": "3FaepJ4e1Xgb"
      },
      "execution_count": null,
      "outputs": []
    }
  ]
}